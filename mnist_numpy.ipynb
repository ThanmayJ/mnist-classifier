{
  "nbformat": 4,
  "nbformat_minor": 0,
  "metadata": {
    "colab": {
      "name": "mnist-numpy",
      "provenance": [],
      "collapsed_sections": []
    },
    "kernelspec": {
      "name": "python3",
      "display_name": "Python 3"
    }
  },
  "cells": [
    {
      "cell_type": "code",
      "metadata": {
        "id": "FUudwnfb3Lr6"
      },
      "source": [
        "import pandas as pd\n",
        "import numpy as np\n",
        "import matplotlib.pyplot as plt\n"
      ],
      "execution_count": 1,
      "outputs": []
    },
    {
      "cell_type": "code",
      "metadata": {
        "id": "TWOghLMM68Ct",
        "colab": {
          "base_uri": "https://localhost:8080/"
        },
        "outputId": "d3ea0418-2081-41f5-b837-4c2e54dbb6ec"
      },
      "source": [
        "train_data = pd.read_csv('sample_data/mnist_train_small.csv', encoding='utf-8')\n",
        "test_data = pd.read_csv('sample_data/mnist_test.csv', encoding='utf=8')\n",
        "print(train_data.head(5))\n",
        "print(test_data.head(5))"
      ],
      "execution_count": 7,
      "outputs": [
        {
          "output_type": "stream",
          "name": "stdout",
          "text": [
            "   6  0  0.1  0.2  0.3  0.4  ...  0.585  0.586  0.587  0.588  0.589  0.590\n",
            "0  5  0    0    0    0    0  ...      0      0      0      0      0      0\n",
            "1  7  0    0    0    0    0  ...      0      0      0      0      0      0\n",
            "2  9  0    0    0    0    0  ...      0      0      0      0      0      0\n",
            "3  5  0    0    0    0    0  ...      0      0      0      0      0      0\n",
            "4  2  0    0    0    0    0  ...      0      0      0      0      0      0\n",
            "\n",
            "[5 rows x 785 columns]\n",
            "   7  0  0.1  0.2  0.3  0.4  ...  0.662  0.663  0.664  0.665  0.666  0.667\n",
            "0  2  0    0    0    0    0  ...      0      0      0      0      0      0\n",
            "1  1  0    0    0    0    0  ...      0      0      0      0      0      0\n",
            "2  0  0    0    0    0    0  ...      0      0      0      0      0      0\n",
            "3  4  0    0    0    0    0  ...      0      0      0      0      0      0\n",
            "4  1  0    0    0    0    0  ...      0      0      0      0      0      0\n",
            "\n",
            "[5 rows x 785 columns]\n"
          ]
        }
      ]
    },
    {
      "cell_type": "code",
      "metadata": {
        "id": "hmTQn8DnI6QV"
      },
      "source": [
        "train_labels = np.array(train_data['6'])\n",
        "train_images = np.array(train_data.drop('6', axis = 1)).T\n",
        "test_labels = np.array(test_data['7'])\n",
        "test_images = np.array(test_data.drop('7', axis = 1)).T"
      ],
      "execution_count": 9,
      "outputs": []
    },
    {
      "cell_type": "code",
      "metadata": {
        "colab": {
          "base_uri": "https://localhost:8080/"
        },
        "id": "sb8Gm1ni9upu",
        "outputId": "faedcdc3-a242-4338-8632-89c54018e6f2"
      },
      "source": [
        "print(train_images.shape)\n",
        "print(train_labels.shape)\n",
        "print(test_images.shape)\n",
        "print(test_labels.shape)"
      ],
      "execution_count": 10,
      "outputs": [
        {
          "output_type": "stream",
          "name": "stdout",
          "text": [
            "(784, 19999)\n",
            "(19999,)\n",
            "(784, 9999)\n",
            "(9999,)\n"
          ]
        }
      ]
    },
    {
      "cell_type": "code",
      "metadata": {
        "colab": {
          "base_uri": "https://localhost:8080/",
          "height": 446
        },
        "id": "lCEvZWM6A2Dg",
        "outputId": "d14f0659-d4ee-4b64-a6a4-09d2c880b734"
      },
      "source": [
        "plt.figure(figsize = (7,7))\n",
        "idx = 0\n",
        "\n",
        "grid_data = test_images[:,idx].reshape(28,28)\n",
        "plt.imshow(grid_data, cmap = \"gray\")\n",
        "plt.show()\n",
        "\n",
        "print(\"Number shown: \", test_labels[idx])"
      ],
      "execution_count": 11,
      "outputs": [
        {
          "output_type": "display_data",
          "data": {
            "image/png": "[encoded data removed]",
            "text/plain": [
              "<Figure size 504x504 with 1 Axes>"
            ]
          },
          "metadata": {
            "needs_background": "light"
          }
        },
        {
          "output_type": "stream",
          "name": "stdout",
          "text": [
            "Number shown:  2\n"
          ]
        }
      ]
    },
    {
      "cell_type": "code",
      "metadata": {
        "colab": {
          "base_uri": "https://localhost:8080/"
        },
        "id": "HkuZ5OT9t7jW",
        "outputId": "92a99657-60af-4333-8e4c-2b98f443fac6"
      },
      "source": [
        "m = train_labels.shape[0]\n",
        "m_test = test_labels.shape[0]\n",
        "print(\"Training examples 'm': \",m)\n",
        "print(\"Test examples 'm_test': \",m_test)\n",
        "X = train_images/255\n",
        "X_test = test_images/255\n",
        "print(\"X.shape = \",X.shape)\n",
        "print(\"X_test.shape = \", X_test.shape)\n",
        "print(train_labels.shape)"
      ],
      "execution_count": 12,
      "outputs": [
        {
          "output_type": "stream",
          "name": "stdout",
          "text": [
            "Training examples 'm':  19999\n",
            "Test examples 'm_test':  9999\n",
            "X.shape =  (784, 19999)\n",
            "X_test.shape =  (784, 9999)\n",
            "(19999,)\n"
          ]
        }
      ]
    },
    {
      "cell_type": "code",
      "metadata": {
        "colab": {
          "base_uri": "https://localhost:8080/"
        },
        "id": "hOIH2RQLvDfp",
        "outputId": "89d13e36-e657-41d7-f977-a029fd5134e8"
      },
      "source": [
        "#print(train_labels.max())\n",
        "#print(train_labels)\n",
        "nums_train = np.unique(train_labels)\n",
        "nums_test = np.unique(test_labels)\n",
        "print(\"Numbers in train images = \", nums_train)\n",
        "print(\"Numbers in test images = \", nums_test)\n",
        "flag = np.array_equal(nums_train, nums_test)\n",
        "print(\"Numbers in test and train are common?: \", flag)\n",
        "assert (flag), 'train_labels != test_labels_'\n",
        "numbers = nums_train"
      ],
      "execution_count": 13,
      "outputs": [
        {
          "output_type": "stream",
          "name": "stdout",
          "text": [
            "Numbers in train images =  [0 1 2 3 4 5 6 7 8 9]\n",
            "Numbers in test images =  [0 1 2 3 4 5 6 7 8 9]\n",
            "Numbers in test and train are common?:  True\n"
          ]
        }
      ]
    },
    {
      "cell_type": "code",
      "metadata": {
        "colab": {
          "base_uri": "https://localhost:8080/"
        },
        "id": "0y2RBHaSx7Ot",
        "outputId": "0329bd12-b392-4aa6-c02f-0bccf9bf3ae5"
      },
      "source": [
        "nClass = len(numbers)\n",
        "print(\"No. of classes: \", nClass)\n"
      ],
      "execution_count": 14,
      "outputs": [
        {
          "output_type": "stream",
          "name": "stdout",
          "text": [
            "No. of classes:  10\n"
          ]
        }
      ]
    },
    {
      "cell_type": "code",
      "metadata": {
        "id": "RfXBKbgbySkn"
      },
      "source": [
        "def one_hot(nClass, labels):\n",
        "    one_hot_labels = np.eye(nClass)[labels.reshape(-1)].T\n",
        "    return one_hot_labels"
      ],
      "execution_count": 15,
      "outputs": []
    },
    {
      "cell_type": "code",
      "metadata": {
        "colab": {
          "base_uri": "https://localhost:8080/"
        },
        "id": "HcVYXeyDz0Ax",
        "outputId": "fe297960-8ca6-4c54-a492-c9b99e9d21d9"
      },
      "source": [
        "Y_hot = one_hot(nClass, train_labels)\n",
        "Y_test_hot = one_hot(nClass, test_labels)\n",
        "print('Y_hot.shape = ', Y_hot.shape)\n",
        "print('Y_test_hot.shape = ', Y_test_hot.shape)"
      ],
      "execution_count": 16,
      "outputs": [
        {
          "output_type": "stream",
          "name": "stdout",
          "text": [
            "Y_hot.shape =  (10, 19999)\n",
            "Y_test_hot.shape =  (10, 9999)\n"
          ]
        }
      ]
    },
    {
      "cell_type": "code",
      "metadata": {
        "colab": {
          "base_uri": "https://localhost:8080/"
        },
        "id": "a1VNW8Wy1XnY",
        "outputId": "402260f8-8233-4e20-935c-46a37a4a8edf"
      },
      "source": [
        "nLayers = 4\n",
        "nodes = np.array([X.shape[0], 512, 128, 32, 10])\n",
        "print(nodes)"
      ],
      "execution_count": 17,
      "outputs": [
        {
          "output_type": "stream",
          "name": "stdout",
          "text": [
            "[784 512 128  32  10]\n"
          ]
        }
      ]
    },
    {
      "cell_type": "code",
      "metadata": {
        "id": "QaJQ6wLYE4I8"
      },
      "source": [
        "def initialize():\n",
        "  global W,b\n",
        "  W = {}\n",
        "  b = {}\n",
        "  for l in range(1,nLayers+1):\n",
        "    W[str(l)] = np.random.randn(nodes[l], nodes[l-1])*np.sqrt(2/nodes[l-1])\n",
        "    b[str(l)] = np.zeros((nodes[l],1))\n",
        "\n",
        "\n"
      ],
      "execution_count": 18,
      "outputs": []
    },
    {
      "cell_type": "code",
      "metadata": {
        "id": "-kQpZS3swCly"
      },
      "source": [
        "initialize()"
      ],
      "execution_count": 19,
      "outputs": []
    },
    {
      "cell_type": "code",
      "metadata": {
        "colab": {
          "base_uri": "https://localhost:8080/"
        },
        "id": "nhtUVKGrFmI1",
        "outputId": "51eab443-1eed-4618-f7e6-abdc35fe3544"
      },
      "source": [
        "for l in range(1, nLayers+1):\n",
        "  print(f\"W[{l}] =\", W[str(l)].shape)\n",
        "  print(f'b[{l}] =', b[str(l)].shape)\n",
        "  print('\\n')"
      ],
      "execution_count": 20,
      "outputs": [
        {
          "output_type": "stream",
          "name": "stdout",
          "text": [
            "W[1] = (512, 784)\n",
            "b[1] = (512, 1)\n",
            "\n",
            "\n",
            "W[2] = (128, 512)\n",
            "b[2] = (128, 1)\n",
            "\n",
            "\n",
            "W[3] = (32, 128)\n",
            "b[3] = (32, 1)\n",
            "\n",
            "\n",
            "W[4] = (10, 32)\n",
            "b[4] = (10, 1)\n",
            "\n",
            "\n"
          ]
        }
      ]
    },
    {
      "cell_type": "code",
      "metadata": {
        "id": "HnEn0JF3J-dR"
      },
      "source": [
        "def relu(z):\n",
        "  a = np.maximum(0,z)\n",
        "  return a"
      ],
      "execution_count": 21,
      "outputs": []
    },
    {
      "cell_type": "code",
      "metadata": {
        "id": "KEyT0_pF7jKN"
      },
      "source": [
        "def softmax(z):\n",
        "  return np.exp(z) / (np.sum(np.exp(z), keepdims=True, axis=0))"
      ],
      "execution_count": 22,
      "outputs": []
    },
    {
      "cell_type": "code",
      "metadata": {
        "id": "XDtOKFt87ox2"
      },
      "source": [
        "def deriv_relu(da,z):\n",
        "  dz = np.array(da, copy=True)\n",
        "  dz[z<=0] = 0\n",
        "  dz[z>0] = 1\n",
        "  return dz"
      ],
      "execution_count": 23,
      "outputs": []
    },
    {
      "cell_type": "code",
      "metadata": {
        "id": "BWoapfGgY67r"
      },
      "source": [
        "def forward_prop():\n",
        "  global A, Z\n",
        "  A = {}\n",
        "  Z = {}\n",
        "  A[str(0)] = X\n",
        "  for l in range(1,nLayers):\n",
        "    Z[str(l)] = np.dot(W[str(l)], A[str(l-1)]) +  b[str(l)]\n",
        "    A[str(l)] = relu(Z[str(l)])\n",
        "  Z[str(nLayers)] = np.dot(W[str(nLayers)], A[str(nLayers-1)]) +  b[str(nLayers)]\n",
        "  A[str(nLayers)] = softmax(Z[str(nLayers)])"
      ],
      "execution_count": 24,
      "outputs": []
    },
    {
      "cell_type": "code",
      "metadata": {
        "id": "wdsA4XcywOBv"
      },
      "source": [
        "forward_prop()"
      ],
      "execution_count": 25,
      "outputs": []
    },
    {
      "cell_type": "code",
      "metadata": {
        "colab": {
          "base_uri": "https://localhost:8080/"
        },
        "id": "S6wcIKOQaSwl",
        "outputId": "bd932274-63d4-43e5-ca10-5e6a23cef106"
      },
      "source": [
        "for l in range(nLayers+1):\n",
        "  print(f\"A[{l}] =\", A[str(l)].shape)\n",
        "print('\\n')\n",
        "for l in range(1, nLayers+1):\n",
        "  print(f'Z[{l}] =', Z[str(l)].shape)"
      ],
      "execution_count": 26,
      "outputs": [
        {
          "output_type": "stream",
          "name": "stdout",
          "text": [
            "A[0] = (784, 19999)\n",
            "A[1] = (512, 19999)\n",
            "A[2] = (128, 19999)\n",
            "A[3] = (32, 19999)\n",
            "A[4] = (10, 19999)\n",
            "\n",
            "\n",
            "Z[1] = (512, 19999)\n",
            "Z[2] = (128, 19999)\n",
            "Z[3] = (32, 19999)\n",
            "Z[4] = (10, 19999)\n"
          ]
        }
      ]
    },
    {
      "cell_type": "code",
      "metadata": {
        "id": "zMEfzosq3PV6"
      },
      "source": [
        "def cost():\n",
        "  global L,J\n",
        "  L = -np.sum(Y_hot*np.log(A[str(nLayers)]), keepdims=True, axis=0)\n",
        "  J = np.sum(L, keepdims=True, axis=1)/m\n"
      ],
      "execution_count": 27,
      "outputs": []
    },
    {
      "cell_type": "code",
      "metadata": {
        "id": "p0jjQ06vwUdb"
      },
      "source": [
        "cost()"
      ],
      "execution_count": 28,
      "outputs": []
    },
    {
      "cell_type": "code",
      "metadata": {
        "colab": {
          "base_uri": "https://localhost:8080/"
        },
        "id": "wbiKLjPJbDL3",
        "outputId": "21e5e3e7-65b4-417e-d8cb-bee7663935b8"
      },
      "source": [
        "print('L.shape =', L.shape)\n",
        "print('J.shape =', J.shape)"
      ],
      "execution_count": 29,
      "outputs": [
        {
          "output_type": "stream",
          "name": "stdout",
          "text": [
            "L.shape = (1, 19999)\n",
            "J.shape = (1, 1)\n"
          ]
        }
      ]
    },
    {
      "cell_type": "code",
      "metadata": {
        "id": "DNm1BOKa6ZRU"
      },
      "source": [
        "def backward_prop():\n",
        "  global dA, dZ, dW, db\n",
        "  dA = {}\n",
        "  dZ = {}\n",
        "  dW = {}\n",
        "  db ={}\n",
        "  dZ[str(nLayers)] = A[str(nLayers)] - Y_hot\n",
        "  dW[str(nLayers)] = np.dot(dZ[str(nLayers)], A[str(nLayers-1)].T) / m\n",
        "  db[str(nLayers)] = np.sum(dZ[str(nLayers)], axis=1, keepdims=True) / m\n",
        "  dA[str(nLayers-1)] = np.dot(W[str(nLayers)].T, dZ[str(nLayers)])\n",
        "\n",
        "  for l in range(nLayers-1,0,-1):\n",
        "    dZ[str(l)] = np.multiply(dA[str(l)] , deriv_relu(dA[str(l)], Z[str(l)]))\n",
        "    dW[str(l)] = np.dot(dZ[str(l)], A[str(l-1)].T) / m\n",
        "    db[str(l)] = np.sum(dZ[str(l)], axis=1, keepdims=True) / m\n",
        "    dA[str(l-1)] = np.dot(W[str(l)].T, dZ[str(l)])"
      ],
      "execution_count": 30,
      "outputs": []
    },
    {
      "cell_type": "code",
      "metadata": {
        "id": "--xASR_cxXU0"
      },
      "source": [
        "backward_prop()"
      ],
      "execution_count": 31,
      "outputs": []
    },
    {
      "cell_type": "code",
      "metadata": {
        "colab": {
          "base_uri": "https://localhost:8080/"
        },
        "id": "g2yr32jebVf-",
        "outputId": "e217f0cb-e5f7-4c5a-959c-f8eabd541112"
      },
      "source": [
        "for l in range(nLayers-1,-1,-1):\n",
        "  print(f\"dA[{l}] =\", dA[str(l)].shape)\n",
        "print('\\n')\n",
        "for l in range(nLayers, 0, -1):\n",
        "  print(f'dZ[{l}] =', dZ[str(l)].shape)\n",
        "print('\\n')\n",
        "for l in range(nLayers, 0, -1):\n",
        "  print(f'dW[{l}] =', dW[str(l)].shape)\n",
        "print('\\n')\n",
        "for l in range(nLayers, 0, -1):\n",
        "  print(f'db[{l}] =', db[str(l)].shape)"
      ],
      "execution_count": 32,
      "outputs": [
        {
          "output_type": "stream",
          "name": "stdout",
          "text": [
            "dA[3] = (32, 19999)\n",
            "dA[2] = (128, 19999)\n",
            "dA[1] = (512, 19999)\n",
            "dA[0] = (784, 19999)\n",
            "\n",
            "\n",
            "dZ[4] = (10, 19999)\n",
            "dZ[3] = (32, 19999)\n",
            "dZ[2] = (128, 19999)\n",
            "dZ[1] = (512, 19999)\n",
            "\n",
            "\n",
            "dW[4] = (10, 32)\n",
            "dW[3] = (32, 128)\n",
            "dW[2] = (128, 512)\n",
            "dW[1] = (512, 784)\n",
            "\n",
            "\n",
            "db[4] = (10, 1)\n",
            "db[3] = (32, 1)\n",
            "db[2] = (128, 1)\n",
            "db[1] = (512, 1)\n"
          ]
        }
      ]
    },
    {
      "cell_type": "code",
      "metadata": {
        "id": "A4XTMYdk8nr7"
      },
      "source": [
        "def model():\n",
        "  initialize()\n",
        "  print(\"Initialization finished\")\n",
        "  forward_prop()\n",
        "  print(\"Forward propagation finished\")\n",
        "  #print(A[str(nLayers)].shape)\n",
        "  #Y_hot.shape\n",
        "  cost()\n",
        "  print(\"Cost calculated\")\n",
        "  backward_prop()\n",
        "  print(\"Backward propagation finished\")\n",
        "\n"
      ],
      "execution_count": 33,
      "outputs": []
    },
    {
      "cell_type": "code",
      "metadata": {
        "colab": {
          "base_uri": "https://localhost:8080/"
        },
        "id": "Nd4p645oxf1f",
        "outputId": "6442a0bd-09ad-4988-c17e-5c0769a4805a"
      },
      "source": [
        "model()"
      ],
      "execution_count": 34,
      "outputs": [
        {
          "output_type": "stream",
          "name": "stdout",
          "text": [
            "Initialization finished\n",
            "Forward propagation finished\n",
            "Cost calculated\n",
            "Backward propagation finished\n"
          ]
        }
      ]
    },
    {
      "cell_type": "code",
      "metadata": {
        "colab": {
          "base_uri": "https://localhost:8080/"
        },
        "id": "FHNvMKBHg2ja",
        "outputId": "a0a3532b-e28c-4fea-831f-65834973ec9e"
      },
      "source": [
        "a = np.abs(A['4']- Y_hot)\n",
        "print(f'Accuracy : {100 - np.mean(a)*100} % on Train Set')"
      ],
      "execution_count": 35,
      "outputs": [
        {
          "output_type": "stream",
          "name": "stdout",
          "text": [
            "Accuracy : 82.0787686057132 % on Train Set\n"
          ]
        }
      ]
    },
    {
      "cell_type": "code",
      "metadata": {
        "id": "MKIlJJQ2crAR"
      },
      "source": [
        "Z_test={}\n",
        "A_test={}\n",
        "A_test[str(0)] = X_test\n",
        "for l in range(1,nLayers):\n",
        "  Z_test[str(l)] = np.dot(W[str(l)], A_test[str(l-1)]) +  b[str(l)]\n",
        "  A_test[str(l)] = relu(Z_test[str(l)])\n",
        "\n",
        "Z_test[str(nLayers)] = np.dot(W[str(nLayers)], A_test[str(nLayers-1)]) +  b[str(nLayers)]\n",
        "A_test[str(nLayers)] = softmax(Z_test[str(nLayers)])"
      ],
      "execution_count": 36,
      "outputs": []
    },
    {
      "cell_type": "code",
      "metadata": {
        "colab": {
          "base_uri": "https://localhost:8080/"
        },
        "id": "cADZhWkeq6tL",
        "outputId": "fe71c656-5a5d-4ec1-d468-32fd3118134e"
      },
      "source": [
        "a_t = np.abs(A_test['4']- Y_test_hot)\n",
        "print(f'Accuracy : {100 - np.mean(a_t)*100} % on Test Set')"
      ],
      "execution_count": 37,
      "outputs": [
        {
          "output_type": "stream",
          "name": "stdout",
          "text": [
            "Accuracy : 82.09855447368997 % on Test Set\n"
          ]
        }
      ]
    }
  ]
}