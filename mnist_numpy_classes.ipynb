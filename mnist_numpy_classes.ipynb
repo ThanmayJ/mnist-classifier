{
  "nbformat": 4,
  "nbformat_minor": 0,
  "metadata": {
    "colab": {
      "name": "mnist_numpy_class.ipynb",
      "provenance": [],
      "collapsed_sections": []
    },
    "kernelspec": {
      "name": "python3",
      "display_name": "Python 3"
    },
    "language_info": {
      "name": "python"
    }
  },
  "cells": [
    {
      "cell_type": "code",
      "metadata": {
        "id": "FYTaFCTVg14I"
      },
      "source": [
        "import pandas as pd\n",
        "import numpy as np\n",
        "import matplotlib.pyplot as plt"
      ],
      "execution_count": 1,
      "outputs": []
    },
    {
      "cell_type": "markdown",
      "metadata": {
        "id": "4_12de1YhRjw"
      },
      "source": [
        "Preprocessing"
      ]
    },
    {
      "cell_type": "code",
      "metadata": {
        "colab": {
          "base_uri": "https://localhost:8080/"
        },
        "id": "MMOWAgRvg4UR",
        "outputId": "76966cc4-fbee-4bde-996a-237fe6caaa4a"
      },
      "source": [
        "train_data = pd.read_csv('sample_data/mnist_train_small.csv', encoding='utf-8')\n",
        "test_data = pd.read_csv('sample_data/mnist_test.csv', encoding='utf=8')\n",
        "print(train_data.head(5))\n",
        "print(test_data.head(5))"
      ],
      "execution_count": 2,
      "outputs": [
        {
          "output_type": "stream",
          "name": "stdout",
          "text": [
            "   6  0  0.1  0.2  0.3  0.4  ...  0.585  0.586  0.587  0.588  0.589  0.590\n",
            "0  5  0    0    0    0    0  ...      0      0      0      0      0      0\n",
            "1  7  0    0    0    0    0  ...      0      0      0      0      0      0\n",
            "2  9  0    0    0    0    0  ...      0      0      0      0      0      0\n",
            "3  5  0    0    0    0    0  ...      0      0      0      0      0      0\n",
            "4  2  0    0    0    0    0  ...      0      0      0      0      0      0\n",
            "\n",
            "[5 rows x 785 columns]\n",
            "   7  0  0.1  0.2  0.3  0.4  ...  0.662  0.663  0.664  0.665  0.666  0.667\n",
            "0  2  0    0    0    0    0  ...      0      0      0      0      0      0\n",
            "1  1  0    0    0    0    0  ...      0      0      0      0      0      0\n",
            "2  0  0    0    0    0    0  ...      0      0      0      0      0      0\n",
            "3  4  0    0    0    0    0  ...      0      0      0      0      0      0\n",
            "4  1  0    0    0    0    0  ...      0      0      0      0      0      0\n",
            "\n",
            "[5 rows x 785 columns]\n"
          ]
        }
      ]
    },
    {
      "cell_type": "code",
      "metadata": {
        "id": "OR7kCaCdg5gg"
      },
      "source": [
        "train_labels = np.array(train_data['6'])\n",
        "train_images = np.array(train_data.drop('6', axis = 1)).T\n",
        "test_labels = np.array(test_data['7'])\n",
        "test_images = np.array(test_data.drop('7', axis = 1)).T"
      ],
      "execution_count": 3,
      "outputs": []
    },
    {
      "cell_type": "code",
      "metadata": {
        "colab": {
          "base_uri": "https://localhost:8080/",
          "height": 445
        },
        "id": "0AcCq8abg6vo",
        "outputId": "f24993ff-7302-4e0f-b286-8fb20a304996"
      },
      "source": [
        "plt.figure(figsize = (7,7))\n",
        "idx = 0\n",
        "\n",
        "grid_data = test_images[:,idx].reshape(28,28)\n",
        "plt.imshow(grid_data, cmap = \"gray\")\n",
        "plt.show()\n",
        "\n",
        "print(\"Number shown: \", test_labels[idx])"
      ],
      "execution_count": 4,
      "outputs": [
        {
          "output_type": "display_data",
          "data": {
            "image/png": "[encoded data removed]",
            "text/plain": [
              "<Figure size 504x504 with 1 Axes>"
            ]
          },
          "metadata": {
            "needs_background": "light"
          }
        },
        {
          "output_type": "stream",
          "name": "stdout",
          "text": [
            "Number shown:  2\n"
          ]
        }
      ]
    },
    {
      "cell_type": "code",
      "metadata": {
        "colab": {
          "base_uri": "https://localhost:8080/"
        },
        "id": "99wPexieg8FQ",
        "outputId": "dce4fe50-5f6a-4e4b-b9b9-bcb46b69e0e3"
      },
      "source": [
        "m = train_labels.shape[0]\n",
        "m_test = test_labels.shape[0]\n",
        "print(\"Training examples 'm': \",m)\n",
        "print(\"Test examples 'm_test': \",m_test)\n",
        "X = train_images/255\n",
        "X_test = test_images/255\n",
        "print(\"X.shape = \",X.shape)\n",
        "print(\"X_test.shape = \", X_test.shape)\n",
        "print(train_labels.shape)"
      ],
      "execution_count": 5,
      "outputs": [
        {
          "output_type": "stream",
          "name": "stdout",
          "text": [
            "Training examples 'm':  19999\n",
            "Test examples 'm_test':  9999\n",
            "X.shape =  (784, 19999)\n",
            "X_test.shape =  (784, 9999)\n",
            "(19999,)\n"
          ]
        }
      ]
    },
    {
      "cell_type": "code",
      "metadata": {
        "colab": {
          "base_uri": "https://localhost:8080/"
        },
        "id": "zKjmgwr2hzkQ",
        "outputId": "c519a742-0cd7-4c37-8f64-cccf3539513d"
      },
      "source": [
        "#print(train_labels.max())\n",
        "#print(train_labels)\n",
        "nums_train = np.unique(train_labels)\n",
        "nums_test = np.unique(test_labels)\n",
        "print(\"Numbers in train images = \", nums_train)\n",
        "print(\"Numbers in test images = \", nums_test)\n",
        "flag = np.array_equal(nums_train, nums_test)\n",
        "print(\"Numbers in test and train are common?: \", flag)\n",
        "assert (flag), 'train_labels != test_labels_'\n",
        "numbers = nums_train"
      ],
      "execution_count": 6,
      "outputs": [
        {
          "output_type": "stream",
          "name": "stdout",
          "text": [
            "Numbers in train images =  [0 1 2 3 4 5 6 7 8 9]\n",
            "Numbers in test images =  [0 1 2 3 4 5 6 7 8 9]\n",
            "Numbers in test and train are common?:  True\n"
          ]
        }
      ]
    },
    {
      "cell_type": "code",
      "metadata": {
        "colab": {
          "base_uri": "https://localhost:8080/"
        },
        "id": "R9KSAAAng_Jf",
        "outputId": "65bf44e9-22b0-40d6-8234-1c3a2c4cc244"
      },
      "source": [
        "nClass = len(numbers)\n",
        "print(\"No. of classes: \", nClass)"
      ],
      "execution_count": 7,
      "outputs": [
        {
          "output_type": "stream",
          "name": "stdout",
          "text": [
            "No. of classes:  10\n"
          ]
        }
      ]
    },
    {
      "cell_type": "code",
      "metadata": {
        "id": "EX0xVCU7hA-3"
      },
      "source": [
        "def one_hot(nClass, labels):\n",
        "    one_hot_labels = np.eye(nClass)[np.array(labels)].T\n",
        "    return one_hot_labels"
      ],
      "execution_count": 8,
      "outputs": []
    },
    {
      "cell_type": "code",
      "metadata": {
        "colab": {
          "base_uri": "https://localhost:8080/"
        },
        "id": "E1gcn0i9YM1U",
        "outputId": "7b1e1232-8971-4e05-a91d-4c27d5d78608"
      },
      "source": [
        "one_hot(10, [1,3,7]) # check if one-hot function gives desired output"
      ],
      "execution_count": 9,
      "outputs": [
        {
          "output_type": "execute_result",
          "data": {
            "text/plain": [
              "array([[0., 0., 0.],\n",
              "       [1., 0., 0.],\n",
              "       [0., 0., 0.],\n",
              "       [0., 1., 0.],\n",
              "       [0., 0., 0.],\n",
              "       [0., 0., 0.],\n",
              "       [0., 0., 0.],\n",
              "       [0., 0., 1.],\n",
              "       [0., 0., 0.],\n",
              "       [0., 0., 0.]])"
            ]
          },
          "metadata": {},
          "execution_count": 9
        }
      ]
    },
    {
      "cell_type": "code",
      "metadata": {
        "colab": {
          "base_uri": "https://localhost:8080/"
        },
        "id": "-ztn78G2hCW5",
        "outputId": "d05ff51e-3089-4d74-d39d-74310a625ea3"
      },
      "source": [
        "Y_hot = one_hot(nClass, train_labels)\n",
        "Y_test_hot = one_hot(nClass, test_labels)\n",
        "print('Y_hot.shape = ', Y_hot.shape)\n",
        "print('Y_test_hot.shape = ', Y_test_hot.shape)"
      ],
      "execution_count": 10,
      "outputs": [
        {
          "output_type": "stream",
          "name": "stdout",
          "text": [
            "Y_hot.shape =  (10, 19999)\n",
            "Y_test_hot.shape =  (10, 9999)\n"
          ]
        }
      ]
    },
    {
      "cell_type": "markdown",
      "metadata": {
        "id": "iueSvO5-hFSY"
      },
      "source": [
        "Hyperparameters\n"
      ]
    },
    {
      "cell_type": "code",
      "metadata": {
        "id": "zuo5TDp8hDw_"
      },
      "source": [
        "nn_size = np.array([X.shape[0], 512, 128, 32, 10])\n"
      ],
      "execution_count": 11,
      "outputs": []
    },
    {
      "cell_type": "markdown",
      "metadata": {
        "id": "9rUKWWfOh8Cw"
      },
      "source": [
        "Neural Network"
      ]
    },
    {
      "cell_type": "code",
      "metadata": {
        "id": "ODgYxelWRVAL"
      },
      "source": [
        "class Classifier():\n",
        "    def __init__(self, nn_size, lr):\n",
        "        self.learning_rate = lr\n",
        "        self.nLayers = len(nn_size)\n",
        "        self.nn_size = nn_size\n",
        "    \n",
        "    def init_weights(self):\n",
        "        W = {}\n",
        "        b = {}\n",
        "        for i in range(1,self.nLayers):\n",
        "            W[f'{i-1}->{i}'] = np.random.randn(self.nn_size[i],self.nn_size[i-1])*np.sqrt(2/self.nn_size[i-1])\n",
        "            b[f'{i-1}->{i}'] = np.zeros((self.nn_size[i],1))\n",
        "        \n",
        "        self.W = W\n",
        "        self.b = b       \n",
        "\n",
        "    def relu(self, z):\n",
        "        return np.maximum(0, z)\n",
        "    \n",
        "    def relu_prime(self, da, z):\n",
        "        dz = np.array(da, copy=True)\n",
        "        dz[z<=0] = 0\n",
        "        dz[z>0] = 1\n",
        "        return dz\n",
        "\n",
        "        \n",
        "    def softmax(self, z):\n",
        "        return np.exp(z) / np.sum(np.exp(z), axis=0)\n",
        "    \n",
        "    def forward(self, X):\n",
        "        A = {}\n",
        "        Z = {}\n",
        "        \n",
        "        A[f'{0}'] = X # first layer is simply the input\n",
        "\n",
        "        # FEEDFORWARD (until second-last layer)\n",
        "        # A[i] = activation( Z[i] ) where Z[i] = W[i-1 -> i] A[i-1] + b\n",
        "        for i in range(1, self.nLayers - 1):\n",
        "            Z[f'{i}'] = np.dot(self.W[f'{i-1}->{i}'], A[f'{i-1}']) + self.b[f'{i-1}->{i}']\n",
        "            A[f'{i}'] = self.relu(Z[f'{i}'])\n",
        "\n",
        "        # FEEDFORWARD (last layer using softmax)\n",
        "        i = self.nLayers - 1\n",
        "        Z[f'{i}'] = np.dot(self.W[f'{i-1}->{i}'], A[f'{i-1}']) + self.b[f'{i-1}->{i}']\n",
        "        A[f'{i}'] = self.softmax(Z[f'{i}'])  # [nClass, 1]\n",
        "\n",
        "        #print('Shapes of Z and A')\n",
        "        #for key in list(Z.keys()):\n",
        "        #    print(Z[key].shape)\n",
        "        #    #print(A[key].shape)\n",
        "\n",
        "        return A, Z \n",
        "    \n",
        "    def cost(self, pred, targ):\n",
        "        m = pred.shape[1]\n",
        "        L = -np.sum(targ * np.log(pred), axis=0) # Total Cross entropy loss\n",
        "        J = (1/m) * np.sum(L)\n",
        "        return J\n",
        "\n",
        "    def backward(self, A, Z, Y):\n",
        "        \"\"\"\n",
        "        To calculate ∂J/∂W, ∂J/∂b for each layer\n",
        "        \n",
        "        We know, \n",
        "        ∂J/∂Z{l} = SoftmaxLayer (S) - TargetY (Y)                 .... (1)\n",
        "        And,\n",
        "        ∂Z_{l}/∂A_{l-1} = W_{l}                                   .... (2)\n",
        "        ∂A_{l-1}/∂Z_{l-1} = σ'(Z_{l-1})                           .... (3)\n",
        "        \n",
        "        For last layer {l},\n",
        "        ∂J/∂W_{l} = ∂J/∂Z_{l} × ∂Z_{l}/∂W_{l}\n",
        "        ie.\n",
        "        ∂J/∂W_{l} = (S - Y)  × A_{l-1}                            .... (4)\n",
        "        Similarly, ∂J/db_{l} = (S - Y) × [[1,1,1,.....,1]]        .... (5)\n",
        "\n",
        "        For second last layer hindwards {l-1},\n",
        "        ∂J/dW_{l-1} = ∂J/∂Z_{l-1} × ∂Z_{l-1}/∂W_{l-1}\n",
        "        ie.\n",
        "        ∂J/dW_{l-1} = ∂J/∂Z_{l-1} × A_{l-2}                         .... (6)\n",
        "        Similary, ∂J/db_{l-1} = ∂J/∂Z_{l-1} × [[1,1,1,.....,1]]     .... (7)\n",
        "        The above two values can be found by plugging in equations (1), (2) and (3) wherever required\n",
        "\n",
        "\n",
        "        We will use equations (4) & (5) for last layer and equations (6) & (7) for other layers         \n",
        "        \"\"\"\n",
        "        dJdZ = {}\n",
        "        dJdW = {}\n",
        "        dJdb = {}\n",
        "        dJdA = {}\n",
        "\n",
        "        l = self.nLayers - 1 \n",
        "        m = np.shape(A[f'{0}'])[0]\n",
        "        S = A[f'{l}']\n",
        "        dJdZ[f'{l}'] = S - Y                                                                  # (1)\n",
        "        dJdW[f'{l}'] = np.dot(dJdZ[f'{l}'], A[f'{l-1}'].T) /m                                 # (4)\n",
        "        dJdb[f'{l}'] = np.sum(dJdZ[f'{l}'], axis=1, keepdims=True) / m                        # (5)\n",
        "        dJdA[f'{l-1}'] = np.dot(self.W[f'{l-1}->{l}'].T, dJdZ[f'{l}']) \n",
        "\n",
        "        for i in range(l-1,0,-1):\n",
        "            dJdZ[f'{i}'] = np.multiply(dJdA[f'{i}'], self.relu_prime(dJdA[f'{i}'],Z[f'{i}']))\n",
        "            dJdW[f'{i}'] = np.dot(dJdZ[f'{i}'], A[f'{i-1}'].T) / m                            # (6)\n",
        "            dJdb[f'{i}'] = np.sum(dJdZ[f'{i}'],axis=1, keepdims=True) / m                     # (7)\n",
        "            dJdA[f'{i-1}'] = np.dot(self.W[f'{i-1}->{i}'].T, dJdZ[f'{i}'])\n",
        "        \n",
        "        #print('Shapes of dW and db')\n",
        "        #for key in list(dJdW.keys()):\n",
        "        #    print(dJdW[key].shape)\n",
        "        #    print(dJdb[key].shape)\n",
        "\n",
        "        return dJdW, dJdb\n",
        "\n",
        "    def optimize(self, dJdW, dJdb):\n",
        "          LR = self.learning_rate\n",
        "          for i in range(1, self.nLayers):\n",
        "              self.W[f'{i-1}->{1}'] = self.W[f'{i-1}->{i}'] - LR * dJdW[f'{i}']\n",
        "              self.b[f'{i-1}->{i}'] = self.b[f'{i-1}->{i}'] - LR * dJdb[f'{i}']"
      ],
      "execution_count": 12,
      "outputs": []
    },
    {
      "cell_type": "code",
      "metadata": {
        "colab": {
          "base_uri": "https://localhost:8080/"
        },
        "id": "WM51Op34fDhA",
        "outputId": "c99d1827-fee5-497c-90f0-c3a670d6fc6e"
      },
      "source": [
        "model = Classifier(nn_size = nn_size, lr=0.005)\n",
        "model.init_weights()\n",
        "# Shapes of W and b\n",
        "#print('W/b')\n",
        "#for key in list(model.W.keys()):\n",
        "#    print(model.W[key].shape)\n",
        "#    print(model.b[key].shape)\n",
        "nEpoch = 20\n",
        "\n",
        "# TRAINING\n",
        "losses = []\n",
        "for i in range(nEpoch):\n",
        "    A, Z = model.forward(X)\n",
        "    loss = model.cost(A[f'{len(nn_size)-1}'], Y_hot)\n",
        "    print(loss)\n",
        "    losses.append(loss)\n",
        "    dJdW, dJdb = model.backward(A, Z, Y_hot)\n",
        "    model.optimize(dJdW, dJdb)"
      ],
      "execution_count": 31,
      "outputs": [
        {
          "output_type": "stream",
          "name": "stdout",
          "text": [
            "2.3833711737079932\n",
            "2.3004059476845256\n",
            "2.2340243895970744\n",
            "2.1759666190422426\n",
            "2.1244357097958706\n",
            "2.077737991374188\n",
            "2.034086823050801\n",
            "1.992067921925108\n",
            "1.950788390208797\n",
            "1.9098187565559699\n",
            "1.8686089498932679\n",
            "1.8268551730613771\n",
            "1.7845736615755061\n",
            "1.7423483169527787\n",
            "1.7008624868412936\n",
            "1.660613371726649\n",
            "1.6217610228156327\n",
            "1.584542657706488\n",
            "1.5489607067115403\n",
            "1.5150084563016193\n"
          ]
        }
      ]
    },
    {
      "cell_type": "code",
      "metadata": {
        "id": "nrWWR7DGgyTK",
        "colab": {
          "base_uri": "https://localhost:8080/",
          "height": 279
        },
        "outputId": "96e022db-e4af-493e-904f-fce9ef0c35ec"
      },
      "source": [
        "import matplotlib.pyplot as plt\n",
        "plt.plot(losses)\n",
        "plt.ylabel('Loss')\n",
        "plt.xlabel('Number of Epochs')\n",
        "plt.show()"
      ],
      "execution_count": 33,
      "outputs": [
        {
          "output_type": "display_data",
          "data": {
            "image/png": "[encoded data removed]",
            "text/plain": [
              "<Figure size 432x288 with 1 Axes>"
            ]
          },
          "metadata": {
            "needs_background": "light"
          }
        }
      ]
    }
  ]
}