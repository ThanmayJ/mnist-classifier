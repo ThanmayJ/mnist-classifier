{
  "nbformat": 4,
  "nbformat_minor": 0,
  "metadata": {
    "accelerator": "GPU",
    "colab": {
      "name": "mnist-pytorch.ipynb",
      "provenance": [],
      "collapsed_sections": []
    },
    "kernelspec": {
      "display_name": "Python 3",
      "name": "python3"
    }
  },
  "cells": [
    {
      "cell_type": "code",
      "metadata": {
        "id": "bGU6NwlsXFSt"
      },
      "source": [
        "import torch\n",
        "import torch.nn as nn\n",
        "import torchvision.datasets as dsets\n",
        "import torchvision.transforms as transforms\n",
        "from torch.autograd import Variable"
      ],
      "execution_count": 20,
      "outputs": []
    },
    {
      "cell_type": "code",
      "metadata": {
        "id": "_bNfVLRUYqZA"
      },
      "source": [
        "# Hyperparameters\n",
        "\n",
        "input_size = 784 # image size = (28,28) ie. 28*28=784 in total\n",
        "hidden_size = 500 # number of nodes in the hidden layer\n",
        "num_classes = 10 # number of output classes (10 digits)\n",
        "num_epochs = 10 # number of times which the entire dataset is passed throughout the model\n",
        "batch_size = 100 # the size of input data took for one iteration\n",
        "lr = 0.001 # learning rate"
      ],
      "execution_count": 21,
      "outputs": []
    },
    {
      "cell_type": "code",
      "metadata": {
        "id": "lCsBCXMwbpH5"
      },
      "source": [
        "train_data = dsets.MNIST(root = './data', train = True,\n",
        "                        transform = transforms.ToTensor(), download = True)\n",
        "\n",
        "test_data = dsets.MNIST(root = './data', train = False,\n",
        "                       transform = transforms.ToTensor())"
      ],
      "execution_count": 22,
      "outputs": []
    },
    {
      "cell_type": "code",
      "metadata": {
        "id": "rfDPBdnYgfGp"
      },
      "source": [
        "train_loader = torch.utils.data.DataLoader(dataset = train_data,\n",
        "                                             batch_size = batch_size,\n",
        "                                             shuffle = True)\n",
        "\n",
        "test_loader = torch.utils.data.DataLoader(dataset = test_data,\n",
        "                                      batch_size = batch_size, \n",
        "                                      shuffle = False)"
      ],
      "execution_count": 23,
      "outputs": []
    },
    {
      "cell_type": "code",
      "metadata": {
        "id": "fL-YXTvghaz_"
      },
      "source": [
        "class model(nn.Module):\n",
        "  def __init__(self, input_size, hidden_size, num_classes):\n",
        "    super(model,self).__init__()\n",
        "    self.fc1 = nn.Linear(input_size, hidden_size)\n",
        "    self.relu = nn.ReLU()\n",
        "    self.fc2 = nn.Linear(hidden_size, num_classes)\n",
        "  \n",
        "  def forward(self,x):\n",
        "    out = self.fc1(x)\n",
        "    out = self.relu(out)\n",
        "    out = self.fc2(out)\n",
        "    return out"
      ],
      "execution_count": 24,
      "outputs": []
    },
    {
      "cell_type": "code",
      "metadata": {
        "id": "-3EPEqbjjfAT"
      },
      "source": [
        "net = model(input_size, hidden_size, num_classes)\n",
        "if torch.cuda.is_available():\n",
        "    net.cuda()"
      ],
      "execution_count": 25,
      "outputs": []
    },
    {
      "cell_type": "code",
      "metadata": {
        "id": "ePLIwvAFj2zH"
      },
      "source": [
        "#Define loss-function & optimizer\n",
        "\n",
        "loss_function = nn.CrossEntropyLoss()\n",
        "optimizer = torch.optim.Adam( net.parameters(), lr=lr)"
      ],
      "execution_count": 26,
      "outputs": []
    },
    {
      "cell_type": "code",
      "metadata": {
        "colab": {
          "base_uri": "https://localhost:8080/"
        },
        "id": "u75Xa5VckuTH",
        "outputId": "eed43f9b-3724-44ae-f2b5-ab7d60b2141d"
      },
      "source": [
        "#Training the model\n",
        "for epoch in range(num_epochs):\n",
        "  for i ,(images,labels) in enumerate(train_loader):\n",
        "    batch_loss = 0 # loss at each batch\n",
        "    \n",
        "    images = Variable(images.view(-1,28*28)).cuda()\n",
        "    labels = Variable(labels).cuda()\n",
        "\n",
        "    optimizer.zero_grad()\n",
        "    outputs = net(images)\n",
        "    loss = loss_function(outputs, labels)\n",
        "    loss.backward()\n",
        "    optimizer.step()\n",
        "    \n",
        "    batch_loss += loss.item()\n",
        "    \n",
        "    if (i+1) % 100 == 0:\n",
        "      print('Epoch %d | Step %d | Loss: %.4f' %(epoch+1, i+1, batch_loss))"
      ],
      "execution_count": 27,
      "outputs": [
        {
          "output_type": "stream",
          "name": "stdout",
          "text": [
            "Epoch 1 | Step 100 | Loss: 0.3964\n",
            "Epoch 1 | Step 200 | Loss: 0.1945\n",
            "Epoch 1 | Step 300 | Loss: 0.2658\n",
            "Epoch 1 | Step 400 | Loss: 0.1340\n",
            "Epoch 1 | Step 500 | Loss: 0.2339\n",
            "Epoch 1 | Step 600 | Loss: 0.1112\n",
            "Epoch 2 | Step 100 | Loss: 0.0791\n",
            "Epoch 2 | Step 200 | Loss: 0.0885\n",
            "Epoch 2 | Step 300 | Loss: 0.0477\n",
            "Epoch 2 | Step 400 | Loss: 0.0947\n",
            "Epoch 2 | Step 500 | Loss: 0.1204\n",
            "Epoch 2 | Step 600 | Loss: 0.1128\n",
            "Epoch 3 | Step 100 | Loss: 0.1780\n",
            "Epoch 3 | Step 200 | Loss: 0.0529\n",
            "Epoch 3 | Step 300 | Loss: 0.0477\n",
            "Epoch 3 | Step 400 | Loss: 0.0477\n",
            "Epoch 3 | Step 500 | Loss: 0.0897\n",
            "Epoch 3 | Step 600 | Loss: 0.1458\n",
            "Epoch 4 | Step 100 | Loss: 0.0669\n",
            "Epoch 4 | Step 200 | Loss: 0.0630\n",
            "Epoch 4 | Step 300 | Loss: 0.0417\n",
            "Epoch 4 | Step 400 | Loss: 0.0204\n",
            "Epoch 4 | Step 500 | Loss: 0.0417\n",
            "Epoch 4 | Step 600 | Loss: 0.0940\n",
            "Epoch 5 | Step 100 | Loss: 0.0376\n",
            "Epoch 5 | Step 200 | Loss: 0.0134\n",
            "Epoch 5 | Step 300 | Loss: 0.0149\n",
            "Epoch 5 | Step 400 | Loss: 0.0627\n",
            "Epoch 5 | Step 500 | Loss: 0.0164\n",
            "Epoch 5 | Step 600 | Loss: 0.0325\n",
            "Epoch 6 | Step 100 | Loss: 0.0126\n",
            "Epoch 6 | Step 200 | Loss: 0.0654\n",
            "Epoch 6 | Step 300 | Loss: 0.0369\n",
            "Epoch 6 | Step 400 | Loss: 0.0681\n",
            "Epoch 6 | Step 500 | Loss: 0.0918\n",
            "Epoch 6 | Step 600 | Loss: 0.0789\n",
            "Epoch 7 | Step 100 | Loss: 0.0181\n",
            "Epoch 7 | Step 200 | Loss: 0.0530\n",
            "Epoch 7 | Step 300 | Loss: 0.0096\n",
            "Epoch 7 | Step 400 | Loss: 0.0132\n",
            "Epoch 7 | Step 500 | Loss: 0.0213\n",
            "Epoch 7 | Step 600 | Loss: 0.0116\n",
            "Epoch 8 | Step 100 | Loss: 0.0034\n",
            "Epoch 8 | Step 200 | Loss: 0.0171\n",
            "Epoch 8 | Step 300 | Loss: 0.0055\n",
            "Epoch 8 | Step 400 | Loss: 0.0118\n",
            "Epoch 8 | Step 500 | Loss: 0.0012\n",
            "Epoch 8 | Step 600 | Loss: 0.0199\n",
            "Epoch 9 | Step 100 | Loss: 0.0025\n",
            "Epoch 9 | Step 200 | Loss: 0.0034\n",
            "Epoch 9 | Step 300 | Loss: 0.0105\n",
            "Epoch 9 | Step 400 | Loss: 0.0067\n",
            "Epoch 9 | Step 500 | Loss: 0.0346\n",
            "Epoch 9 | Step 600 | Loss: 0.0195\n",
            "Epoch 10 | Step 100 | Loss: 0.0313\n",
            "Epoch 10 | Step 200 | Loss: 0.0078\n",
            "Epoch 10 | Step 300 | Loss: 0.0042\n",
            "Epoch 10 | Step 400 | Loss: 0.0084\n",
            "Epoch 10 | Step 500 | Loss: 0.0086\n",
            "Epoch 10 | Step 600 | Loss: 0.0384\n"
          ]
        }
      ]
    },
    {
      "cell_type": "code",
      "metadata": {
        "colab": {
          "base_uri": "https://localhost:8080/"
        },
        "id": "DTPvMW5jHB9X",
        "outputId": "f08b409f-5f27-4974-cf0d-f01e6be90f78"
      },
      "source": [
        "#Accuracy of the model\n",
        " \n",
        "correct = 0\n",
        "total = 0\n",
        "for images,labels in test_loader:\n",
        "  images = Variable(images.view(-1,28*28)).cuda()\n",
        "  labels = labels.cuda()\n",
        "  \n",
        "  output = net(images)\n",
        "  _, predicted = torch.max(output,1)\n",
        "  correct += (predicted == labels).sum()\n",
        "  total += labels.size(0)\n",
        " \n",
        "print('Accuracy of the model: %.3f %%' %((100*correct)/(total+1)))"
      ],
      "execution_count": 28,
      "outputs": [
        {
          "output_type": "stream",
          "name": "stdout",
          "text": [
            "Accuracy of the model: 98.020 %\n"
          ]
        }
      ]
    }
  ]
}